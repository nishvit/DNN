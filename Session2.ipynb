{
  "nbformat": 4,
  "nbformat_minor": 0,
  "metadata": {
    "colab": {
      "name": "Session2.ipynb",
      "provenance": [],
      "collapsed_sections": [],
      "include_colab_link": true
    },
    "kernelspec": {
      "name": "python3",
      "display_name": "Python 3"
    },
    "accelerator": "GPU"
  },
  "cells": [
    {
      "cell_type": "markdown",
      "metadata": {
        "id": "view-in-github",
        "colab_type": "text"
      },
      "source": [
        "<a href=\"https://colab.research.google.com/github/nishvit/DNN/blob/master/Session2.ipynb\" target=\"_parent\"><img src=\"https://colab.research.google.com/assets/colab-badge.svg\" alt=\"Open In Colab\"/></a>"
      ]
    },
    {
      "cell_type": "markdown",
      "metadata": {
        "id": "-nJ7YEw_vyjG",
        "colab_type": "text"
      },
      "source": [
        "# **Not an ideal network**"
      ]
    },
    {
      "cell_type": "code",
      "metadata": {
        "id": "kGWv5hBhv2jf",
        "colab_type": "code",
        "colab": {
          "base_uri": "https://localhost:8080/",
          "height": 34
        },
        "outputId": "e2b56b9e-4d3d-4898-e91f-11dbf8dfb761"
      },
      "source": [
        "# https://keras.io/\n",
        "!pip install -q keras\n",
        "import keras"
      ],
      "execution_count": 1,
      "outputs": [
        {
          "output_type": "stream",
          "text": [
            "Using TensorFlow backend.\n"
          ],
          "name": "stderr"
        }
      ]
    },
    {
      "cell_type": "code",
      "metadata": {
        "id": "wnMlDJQKv4VG",
        "colab_type": "code",
        "colab": {}
      },
      "source": [
        "import numpy as np\n",
        "\n",
        "from keras.models import Sequential\n",
        "from keras.layers import Flatten\n",
        "from keras.layers import Convolution2D\n",
        "from keras.utils import np_utils\n",
        "\n",
        "from keras.datasets import mnist"
      ],
      "execution_count": 0,
      "outputs": []
    },
    {
      "cell_type": "code",
      "metadata": {
        "id": "8CdSu2lMwB9s",
        "colab_type": "code",
        "colab": {
          "base_uri": "https://localhost:8080/",
          "height": 51
        },
        "outputId": "407d0249-8287-4377-d68f-d7163ccab3c4"
      },
      "source": [
        "(X_train, y_train), (X_test, y_test) = mnist.load_data() # This is a dataset of 60,000 28x28 grayscale images of the 10 digits, along with a test set of 10,000 images"
      ],
      "execution_count": 3,
      "outputs": [
        {
          "output_type": "stream",
          "text": [
            "Downloading data from https://s3.amazonaws.com/img-datasets/mnist.npz\n",
            "11493376/11490434 [==============================] - 1s 0us/step\n"
          ],
          "name": "stdout"
        }
      ]
    },
    {
      "cell_type": "code",
      "metadata": {
        "id": "0EWFcGvA-Wge",
        "colab_type": "code",
        "colab": {}
      },
      "source": [
        ""
      ],
      "execution_count": 0,
      "outputs": []
    },
    {
      "cell_type": "code",
      "metadata": {
        "id": "tLaDf0-rwCmj",
        "colab_type": "code",
        "outputId": "ea9bf58e-d445-484c-a16b-74aae0f5ef82",
        "colab": {
          "base_uri": "https://localhost:8080/",
          "height": 299
        }
      },
      "source": [
        "print (X_train.shape)\n",
        "from matplotlib import pyplot as plt\n",
        "%matplotlib inline\n",
        "plt.imshow(X_train[1])  # plot 1 handwritten image out of 60000 from the dataset"
      ],
      "execution_count": 4,
      "outputs": [
        {
          "output_type": "stream",
          "text": [
            "(60000, 28, 28)\n"
          ],
          "name": "stdout"
        },
        {
          "output_type": "execute_result",
          "data": {
            "text/plain": [
              "<matplotlib.image.AxesImage at 0x7f209203a2e8>"
            ]
          },
          "metadata": {
            "tags": []
          },
          "execution_count": 4
        },
        {
          "output_type": "display_data",
          "data": {
            "image/png": "[encoded data removed]",
            "text/plain": [
              "<Figure size 432x288 with 1 Axes>"
            ]
          },
          "metadata": {
            "tags": [],
            "needs_background": "light"
          }
        }
      ]
    },
    {
      "cell_type": "code",
      "metadata": {
        "id": "eORRwgkmANeI",
        "colab_type": "code",
        "outputId": "5bcbf159-c582-4060-8a31-ec491e9c01b7",
        "colab": {
          "base_uri": "https://localhost:8080/",
          "height": 85
        }
      },
      "source": [
        "print (X_test.shape)\n",
        "print (X_train.shape)\n",
        "print (y_train.shape)\n",
        "print (y_test.shape)"
      ],
      "execution_count": 5,
      "outputs": [
        {
          "output_type": "stream",
          "text": [
            "(10000, 28, 28)\n",
            "(60000, 28, 28)\n",
            "(60000,)\n",
            "(10000,)\n"
          ],
          "name": "stdout"
        }
      ]
    },
    {
      "cell_type": "code",
      "metadata": {
        "id": "erb11jNwwFwl",
        "colab_type": "code",
        "outputId": "ee0aca77-0121-4068-9fce-7c337c9c6ae0",
        "colab": {
          "base_uri": "https://localhost:8080/",
          "height": 51
        }
      },
      "source": [
        "X_train = X_train.reshape(X_train.shape[0], 28, 28,1)   # Convert 2D to 3D \n",
        "X_test = X_test.reshape(X_test.shape[0], 28, 28,1)\n",
        "print (X_test.shape)\n",
        "print (X_train.shape)"
      ],
      "execution_count": 6,
      "outputs": [
        {
          "output_type": "stream",
          "text": [
            "(10000, 28, 28, 1)\n",
            "(60000, 28, 28, 1)\n"
          ],
          "name": "stdout"
        }
      ]
    },
    {
      "cell_type": "code",
      "metadata": {
        "id": "RLK4YDoRwHet",
        "colab_type": "code",
        "outputId": "51dac60a-da1b-4626-d02e-afb1a2822d00",
        "colab": {
          "base_uri": "https://localhost:8080/",
          "height": 51
        }
      },
      "source": [
        "X_train = X_train.astype('float32')\n",
        "X_test = X_test.astype('float32')\n",
        "X_train /= 255\n",
        "X_test /= 255\n",
        "print (X_test.shape)\n",
        "print (X_train.shape)"
      ],
      "execution_count": 7,
      "outputs": [
        {
          "output_type": "stream",
          "text": [
            "(10000, 28, 28, 1)\n",
            "(60000, 28, 28, 1)\n"
          ],
          "name": "stdout"
        }
      ]
    },
    {
      "cell_type": "code",
      "metadata": {
        "id": "JNKLOmhlwJQl",
        "colab_type": "code",
        "outputId": "c15e5007-b182-47d2-f886-56e84dd8372d",
        "colab": {
          "base_uri": "https://localhost:8080/",
          "height": 51
        }
      },
      "source": [
        "y_train[:20]  # input dataset for the algorithm .. Increased it to 20 from originally 10"
      ],
      "execution_count": 8,
      "outputs": [
        {
          "output_type": "execute_result",
          "data": {
            "text/plain": [
              "array([5, 0, 4, 1, 9, 2, 1, 3, 1, 4, 3, 5, 3, 6, 1, 7, 2, 8, 6, 9],\n",
              "      dtype=uint8)"
            ]
          },
          "metadata": {
            "tags": []
          },
          "execution_count": 8
        }
      ]
    },
    {
      "cell_type": "code",
      "metadata": {
        "id": "YusMJguiwKsM",
        "colab_type": "code",
        "colab": {}
      },
      "source": [
        "# Convert 1-dimensional class arrays to 10-dimensional class matrices\n",
        "Y_train = np_utils.to_categorical(y_train, 10)\n",
        "Y_test = np_utils.to_categorical(y_test, 10)\n"
      ],
      "execution_count": 0,
      "outputs": []
    },
    {
      "cell_type": "code",
      "metadata": {
        "id": "upxc99AswMW0",
        "colab_type": "code",
        "colab": {}
      },
      "source": [
        ""
      ],
      "execution_count": 0,
      "outputs": []
    },
    {
      "cell_type": "code",
      "metadata": {
        "id": "irTVUE47wNwr",
        "colab_type": "code",
        "outputId": "1f360188-bcc4-4950-e181-97e1a30de41e",
        "colab": {
          "base_uri": "https://localhost:8080/",
          "height": 782
        }
      },
      "source": [
        "from keras.layers import Activation, MaxPooling2D\n",
        "\n",
        "model = Sequential() \n",
        "model.add(Convolution2D(1, 3, 3, activation='relu', input_shape=(28,28,1))) # 26x26x1\n",
        "model.add(Convolution2D(2, 3, 3, activation='relu')) # 24x24x2\n",
        "model.add(Convolution2D(4, 3, 3, activation='relu')) # 22x22x4\n",
        "\n",
        "model.add(MaxPooling2D(pool_size=(2, 2)))# 11x11x4\n",
        "\n",
        "model.add(Convolution2D(8, 3, 3, activation='relu'))# 9x9x8\n",
        "model.add(Convolution2D(16, 3, 3, activation='relu'))# 7x7x16\n",
        "\n",
        "\n",
        "model.add(Convolution2D(32, 3, 3, activation='relu'))# 5x5x32\n",
        "\n",
        "model.add(Convolution2D(64, 3, 3, activation='relu'))# 3x3x64\n",
        "model.add(Convolution2D(10, 3, 3, activation='relu')) #1x1x10\n",
        "\n",
        "model.add(Flatten())\n",
        "model.add(Activation('softmax'))\n",
        "\n",
        "model.summary()"
      ],
      "execution_count": 10,
      "outputs": [
        {
          "output_type": "stream",
          "text": [
            "/usr/local/lib/python3.6/dist-packages/ipykernel_launcher.py:4: UserWarning: Update your `Conv2D` call to the Keras 2 API: `Conv2D(1, (3, 3), activation=\"relu\", input_shape=(28, 28, 1...)`\n",
            "  after removing the cwd from sys.path.\n"
          ],
          "name": "stderr"
        },
        {
          "output_type": "stream",
          "text": [
            "Model: \"sequential_1\"\n",
            "_________________________________________________________________\n",
            "Layer (type)                 Output Shape              Param #   \n",
            "=================================================================\n",
            "conv2d_1 (Conv2D)            (None, 26, 26, 1)         10        \n",
            "_________________________________________________________________\n",
            "conv2d_2 (Conv2D)            (None, 24, 24, 2)         20        \n",
            "_________________________________________________________________\n",
            "conv2d_3 (Conv2D)            (None, 22, 22, 4)         76        \n",
            "_________________________________________________________________\n",
            "max_pooling2d_1 (MaxPooling2 (None, 11, 11, 4)         0         \n",
            "_________________________________________________________________\n",
            "conv2d_4 (Conv2D)            (None, 9, 9, 8)           296       \n",
            "_________________________________________________________________\n",
            "conv2d_5 (Conv2D)            (None, 7, 7, 16)          1168      \n",
            "_________________________________________________________________\n",
            "conv2d_6 (Conv2D)            (None, 5, 5, 32)          4640      \n",
            "_________________________________________________________________\n",
            "conv2d_7 (Conv2D)            (None, 3, 3, 64)          18496     \n",
            "_________________________________________________________________\n",
            "conv2d_8 (Conv2D)            (None, 1, 1, 10)          5770      \n",
            "_________________________________________________________________\n",
            "flatten_1 (Flatten)          (None, 10)                0         \n",
            "_________________________________________________________________\n",
            "activation_1 (Activation)    (None, 10)                0         \n",
            "=================================================================\n",
            "Total params: 30,476\n",
            "Trainable params: 30,476\n",
            "Non-trainable params: 0\n",
            "_________________________________________________________________\n"
          ],
          "name": "stdout"
        },
        {
          "output_type": "stream",
          "text": [
            "/usr/local/lib/python3.6/dist-packages/ipykernel_launcher.py:5: UserWarning: Update your `Conv2D` call to the Keras 2 API: `Conv2D(2, (3, 3), activation=\"relu\")`\n",
            "  \"\"\"\n",
            "/usr/local/lib/python3.6/dist-packages/ipykernel_launcher.py:6: UserWarning: Update your `Conv2D` call to the Keras 2 API: `Conv2D(4, (3, 3), activation=\"relu\")`\n",
            "  \n",
            "/usr/local/lib/python3.6/dist-packages/ipykernel_launcher.py:10: UserWarning: Update your `Conv2D` call to the Keras 2 API: `Conv2D(8, (3, 3), activation=\"relu\")`\n",
            "  # Remove the CWD from sys.path while we load stuff.\n",
            "/usr/local/lib/python3.6/dist-packages/ipykernel_launcher.py:11: UserWarning: Update your `Conv2D` call to the Keras 2 API: `Conv2D(16, (3, 3), activation=\"relu\")`\n",
            "  # This is added back by InteractiveShellApp.init_path()\n",
            "/usr/local/lib/python3.6/dist-packages/ipykernel_launcher.py:14: UserWarning: Update your `Conv2D` call to the Keras 2 API: `Conv2D(32, (3, 3), activation=\"relu\")`\n",
            "  \n",
            "/usr/local/lib/python3.6/dist-packages/ipykernel_launcher.py:16: UserWarning: Update your `Conv2D` call to the Keras 2 API: `Conv2D(64, (3, 3), activation=\"relu\")`\n",
            "  app.launch_new_instance()\n",
            "/usr/local/lib/python3.6/dist-packages/ipykernel_launcher.py:17: UserWarning: Update your `Conv2D` call to the Keras 2 API: `Conv2D(10, (3, 3), activation=\"relu\")`\n"
          ],
          "name": "stderr"
        }
      ]
    },
    {
      "cell_type": "code",
      "metadata": {
        "id": "VYZOpRb6yG7_",
        "colab_type": "code",
        "colab": {}
      },
      "source": [
        "model.compile(loss='categorical_crossentropy',\n",
        "             optimizer='adam',\n",
        "             metrics=['accuracy'])"
      ],
      "execution_count": 0,
      "outputs": []
    },
    {
      "cell_type": "code",
      "metadata": {
        "id": "5O248wVQyMft",
        "colab_type": "code",
        "outputId": "c7d8d0b5-af5c-4861-a514-b08056a11bde",
        "colab": {
          "base_uri": "https://localhost:8080/",
          "height": 408
        }
      },
      "source": [
        "model.fit(X_train, Y_train, batch_size=32, nb_epoch=10, verbose=1)\n",
        "\n",
        "#/usr/local/lib/python3.6/dist-packages/ipykernel_launcher.py:1: UserWarning: The `nb_epoch` argument in `fit` has been renamed `epochs`.\n",
        "#  \"\"\"Entry point for launching an IPython kernel.\n",
        "#Epoch 1/10\n",
        "#60000/60000 [==============================] - 16s 265us/step - loss: 0.9486 - accuracy: 0.7217\n",
        "#Epoch 2/10\n",
        "#60000/60000 [==============================] - 10s 164us/step - loss: 0.7636 - accuracy: 0.7800\n",
        "#Epoch 3/10\n",
        "#60000/60000 [==============================] - 10s 161us/step - loss: 0.7397 - accuracy: 0.7860\n",
        "#Epoch 4/10\n",
        "#60000/60000 [==============================] - 10s 159us/step - loss: 0.7281 - accuracy: 0.7894\n",
        "#Epoch 5/10\n",
        "#60000/60000 [==============================] - 10s 160us/step - loss: 0.5552 - accuracy: 0.8637\n",
        "#Epoch 6/10\n",
        "#60000/60000 [==============================] - 10s 159us/step - loss: 0.4950 - accuracy: 0.8876\n",
        "#Epoch 7/10\n",
        "#60000/60000 [==============================] - 9s 158us/step - loss: 0.4888 - accuracy: 0.8903\n",
        "#Epoch 8/10\n",
        "#60000/60000 [==============================] - 10s 159us/step - loss: 0.3732 - accuracy: 0.9391\n",
        "#Epoch 9/10\n",
        "#60000/60000 [==============================] - 10s 159us/step - loss: 0.2576 - accuracy: 0.9886\n",
        "#Epoch 10/10\n",
        "#60000/60000 [==============================] - 10s 161us/step - loss: 0.2530 - accuracy: 0.9899\n",
        "#<keras.callbacks.callbacks.History at 0x7f96c01f1dd8>"
      ],
      "execution_count": 12,
      "outputs": [
        {
          "output_type": "stream",
          "text": [
            "/usr/local/lib/python3.6/dist-packages/ipykernel_launcher.py:1: UserWarning: The `nb_epoch` argument in `fit` has been renamed `epochs`.\n",
            "  \"\"\"Entry point for launching an IPython kernel.\n"
          ],
          "name": "stderr"
        },
        {
          "output_type": "stream",
          "text": [
            "Epoch 1/10\n",
            "60000/60000 [==============================] - 15s 256us/step - loss: 1.3074 - accuracy: 0.5739\n",
            "Epoch 2/10\n",
            "60000/60000 [==============================] - 9s 153us/step - loss: 1.1924 - accuracy: 0.5987\n",
            "Epoch 3/10\n",
            "60000/60000 [==============================] - 9s 152us/step - loss: 1.1730 - accuracy: 0.6028\n",
            "Epoch 4/10\n",
            "60000/60000 [==============================] - 9s 152us/step - loss: 1.1628 - accuracy: 0.6047\n",
            "Epoch 5/10\n",
            "60000/60000 [==============================] - 9s 153us/step - loss: 1.1569 - accuracy: 0.6055\n",
            "Epoch 6/10\n",
            "60000/60000 [==============================] - 9s 153us/step - loss: 1.1527 - accuracy: 0.6054\n",
            "Epoch 7/10\n",
            "60000/60000 [==============================] - 9s 151us/step - loss: 1.1471 - accuracy: 0.6072\n",
            "Epoch 8/10\n",
            "60000/60000 [==============================] - 9s 151us/step - loss: 1.1471 - accuracy: 0.6070\n",
            "Epoch 9/10\n",
            "60000/60000 [==============================] - 9s 151us/step - loss: 1.1444 - accuracy: 0.6075\n",
            "Epoch 10/10\n",
            "60000/60000 [==============================] - 9s 151us/step - loss: 1.1430 - accuracy: 0.6079\n"
          ],
          "name": "stdout"
        },
        {
          "output_type": "execute_result",
          "data": {
            "text/plain": [
              "<keras.callbacks.callbacks.History at 0x7f2036050400>"
            ]
          },
          "metadata": {
            "tags": []
          },
          "execution_count": 12
        }
      ]
    },
    {
      "cell_type": "code",
      "metadata": {
        "id": "Sst4KneiyOL5",
        "colab_type": "code",
        "colab": {}
      },
      "source": [
        "score = model.evaluate(X_test, Y_test, verbose=0)"
      ],
      "execution_count": 0,
      "outputs": []
    },
    {
      "cell_type": "code",
      "metadata": {
        "id": "CfJiXOKsyj4y",
        "colab_type": "code",
        "outputId": "c740c2d0-e39d-448b-e514-ddae5ceb412c",
        "colab": {
          "base_uri": "https://localhost:8080/",
          "height": 34
        }
      },
      "source": [
        "print(score)"
      ],
      "execution_count": 14,
      "outputs": [
        {
          "output_type": "stream",
          "text": [
            "[1.1714739881515503, 0.6029999852180481]\n"
          ],
          "name": "stdout"
        }
      ]
    },
    {
      "cell_type": "code",
      "metadata": {
        "id": "hwLSXt7nyn_0",
        "colab_type": "code",
        "colab": {}
      },
      "source": [
        "y_pred = model.predict(X_test)"
      ],
      "execution_count": 0,
      "outputs": []
    },
    {
      "cell_type": "code",
      "metadata": {
        "id": "WWKKoOKwyppN",
        "colab_type": "code",
        "outputId": "1853137a-3f59-456c-b8ef-2c531b9f238b",
        "colab": {
          "base_uri": "https://localhost:8080/",
          "height": 493
        }
      },
      "source": [
        "print(y_pred[:9])\n",
        "print(y_test[:9])\n",
        "\n",
        "#[[1.92659755e-08 1.92659755e-08 1.65647521e-07 1.92659755e-08\n",
        "#  1.92659755e-08 1.92659755e-08 1.92659755e-08 9.99999762e-01\n",
        "#  1.92659755e-08 1.92659755e-08]\n",
        "# [4.57669239e-06 4.57669239e-06 9.99958754e-01 4.57669239e-06\n",
        "#  4.57669239e-06 4.57669239e-06 4.57669239e-06 4.57669239e-06\n",
        "#  4.57669239e-06 4.57669239e-06]\n",
        "# [3.34561427e-08 9.99987960e-01 5.08468538e-08 3.34561427e-08\n",
        "#  2.38183543e-06 1.45297963e-06 3.34561427e-08 7.56363488e-06\n",
        "#  4.00286808e-07 3.34561427e-08]\n",
        "# [1.00000001e-01 1.00000001e-01 1.00000001e-01 1.00000001e-01\n",
        "#  1.00000001e-01 1.00000001e-01 1.00000001e-01 1.00000001e-01\n",
        "#  1.00000001e-01 1.00000001e-01]\n",
        "# [1.55468083e-08 1.55468083e-08 1.55468083e-08 1.55468083e-08\n",
        "#  9.99999642e-01 1.55468083e-08 1.55468083e-08 1.55468083e-08\n",
        "#  1.55468083e-08 2.62763052e-07]\n",
        "# [6.00189676e-09 9.99994516e-01 2.08135429e-08 6.00189676e-09\n",
        "#  1.03988164e-07 2.34852820e-07 6.00189676e-09 5.02389412e-06\n",
        "#  1.32075996e-07 6.00189676e-09]\n",
        "# [2.00848120e-07 2.00848120e-07 7.49142771e-07 2.00848120e-07\n",
        "#  9.99997616e-01 2.00848120e-07 2.00848120e-07 2.00848120e-07\n",
        "#  3.24467464e-07 2.00848120e-07]\n",
        "# [9.14520626e-07 9.14520626e-07 9.14520626e-07 9.14520626e-07\n",
        "#  7.73164138e-05 2.69550073e-04 9.14520626e-07 9.14520626e-07\n",
        "#  9.14520626e-07 9.99646664e-01]\n",
        "# [7.18548199e-06 7.18548199e-06 7.18548199e-06 7.18548199e-06\n",
        "#  7.18548199e-06 9.86605346e-01 8.84316396e-03 7.18548199e-06\n",
        "#  4.50130552e-03 7.18548199e-06]]#"
      ],
      "execution_count": 16,
      "outputs": [
        {
          "output_type": "stream",
          "text": [
            "[[5.29782653e-08 5.29782653e-08 5.29782653e-08 5.29782653e-08\n",
            "  5.29782653e-08 5.29782653e-08 5.29782653e-08 9.99999523e-01\n",
            "  5.29782653e-08 5.29782653e-08]\n",
            " [1.00000001e-01 1.00000001e-01 1.00000001e-01 1.00000001e-01\n",
            "  1.00000001e-01 1.00000001e-01 1.00000001e-01 1.00000001e-01\n",
            "  1.00000001e-01 1.00000001e-01]\n",
            " [5.07597679e-06 9.99922633e-01 5.07597679e-06 5.07597679e-06\n",
            "  5.07597679e-06 5.07597679e-06 5.07597679e-06 5.07597679e-06\n",
            "  3.67037246e-05 5.07597679e-06]\n",
            " [1.00000001e-01 1.00000001e-01 1.00000001e-01 1.00000001e-01\n",
            "  1.00000001e-01 1.00000001e-01 1.00000001e-01 1.00000001e-01\n",
            "  1.00000001e-01 1.00000001e-01]\n",
            " [1.55007170e-11 1.55007170e-11 1.55007170e-11 1.55007170e-11\n",
            "  1.00000000e+00 1.55007170e-11 1.55007170e-11 1.55007170e-11\n",
            "  1.55007170e-11 1.55007170e-11]\n",
            " [4.19160045e-07 9.99986529e-01 4.19160045e-07 4.19160045e-07\n",
            "  4.19160045e-07 4.19160045e-07 4.19160045e-07 4.19160045e-07\n",
            "  1.00705265e-05 4.19160045e-07]\n",
            " [3.58507975e-07 3.58507975e-07 3.58507975e-07 3.58507975e-07\n",
            "  9.99983191e-01 3.58507975e-07 3.58507975e-07 1.39763215e-05\n",
            "  3.58507975e-07 3.58507975e-07]\n",
            " [1.00000001e-01 1.00000001e-01 1.00000001e-01 1.00000001e-01\n",
            "  1.00000001e-01 1.00000001e-01 1.00000001e-01 1.00000001e-01\n",
            "  1.00000001e-01 1.00000001e-01]\n",
            " [1.00000001e-01 1.00000001e-01 1.00000001e-01 1.00000001e-01\n",
            "  1.00000001e-01 1.00000001e-01 1.00000001e-01 1.00000001e-01\n",
            "  1.00000001e-01 1.00000001e-01]]\n",
            "[7 2 1 0 4 1 4 9 5]\n"
          ],
          "name": "stdout"
        }
      ]
    },
    {
      "cell_type": "code",
      "metadata": {
        "id": "_eiHTh6X2CVV",
        "colab_type": "code",
        "colab": {}
      },
      "source": [
        "# Issues with the Initial code\n",
        "# 1. Small input dataset\n",
        "# 2. Too much noise in the dataset so using too manyt channels is redundant"
      ],
      "execution_count": 0,
      "outputs": []
    }
  ]
}